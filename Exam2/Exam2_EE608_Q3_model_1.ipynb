{
 "cells": [
  {
   "cell_type": "code",
   "execution_count": 11,
   "metadata": {},
   "outputs": [],
   "source": [
    "import pandas as pd\n",
    "from sklearn.model_selection import train_test_split\n",
    "from sklearn import metrics\n",
    "import numpy as np\n",
    "import copy\n"
   ]
  },
  {
   "cell_type": "code",
   "execution_count": 12,
   "metadata": {},
   "outputs": [],
   "source": [
    "data = pd.read_csv('TSLA.csv')\n"
   ]
  },
  {
   "cell_type": "code",
   "execution_count": 13,
   "metadata": {
    "scrolled": true
   },
   "outputs": [
    {
     "data": {
      "text/html": [
       "<div>\n",
       "<style scoped>\n",
       "    .dataframe tbody tr th:only-of-type {\n",
       "        vertical-align: middle;\n",
       "    }\n",
       "\n",
       "    .dataframe tbody tr th {\n",
       "        vertical-align: top;\n",
       "    }\n",
       "\n",
       "    .dataframe thead th {\n",
       "        text-align: right;\n",
       "    }\n",
       "</style>\n",
       "<table border=\"1\" class=\"dataframe\">\n",
       "  <thead>\n",
       "    <tr style=\"text-align: right;\">\n",
       "      <th></th>\n",
       "      <th>Date</th>\n",
       "      <th>Open</th>\n",
       "      <th>High</th>\n",
       "      <th>Low</th>\n",
       "      <th>Close</th>\n",
       "      <th>Volume</th>\n",
       "      <th>Dividends</th>\n",
       "      <th>Stock Splits</th>\n",
       "    </tr>\n",
       "  </thead>\n",
       "  <tbody>\n",
       "    <tr>\n",
       "      <th>0</th>\n",
       "      <td>2019-04-11</td>\n",
       "      <td>53.660000</td>\n",
       "      <td>54.099998</td>\n",
       "      <td>53.119999</td>\n",
       "      <td>53.683998</td>\n",
       "      <td>49179500</td>\n",
       "      <td>0</td>\n",
       "      <td>0.0</td>\n",
       "    </tr>\n",
       "    <tr>\n",
       "      <th>1</th>\n",
       "      <td>2019-04-12</td>\n",
       "      <td>54.043999</td>\n",
       "      <td>54.389999</td>\n",
       "      <td>53.366001</td>\n",
       "      <td>53.540001</td>\n",
       "      <td>33730000</td>\n",
       "      <td>0</td>\n",
       "      <td>0.0</td>\n",
       "    </tr>\n",
       "    <tr>\n",
       "      <th>2</th>\n",
       "      <td>2019-04-15</td>\n",
       "      <td>53.726002</td>\n",
       "      <td>53.776001</td>\n",
       "      <td>51.726002</td>\n",
       "      <td>53.276001</td>\n",
       "      <td>50193000</td>\n",
       "      <td>0</td>\n",
       "      <td>0.0</td>\n",
       "    </tr>\n",
       "    <tr>\n",
       "      <th>3</th>\n",
       "      <td>2019-04-16</td>\n",
       "      <td>53.150002</td>\n",
       "      <td>55.000000</td>\n",
       "      <td>52.944000</td>\n",
       "      <td>54.672001</td>\n",
       "      <td>36364500</td>\n",
       "      <td>0</td>\n",
       "      <td>0.0</td>\n",
       "    </tr>\n",
       "    <tr>\n",
       "      <th>4</th>\n",
       "      <td>2019-04-17</td>\n",
       "      <td>54.950001</td>\n",
       "      <td>54.958000</td>\n",
       "      <td>53.708000</td>\n",
       "      <td>54.245998</td>\n",
       "      <td>25632500</td>\n",
       "      <td>0</td>\n",
       "      <td>0.0</td>\n",
       "    </tr>\n",
       "  </tbody>\n",
       "</table>\n",
       "</div>"
      ],
      "text/plain": [
       "         Date       Open       High        Low      Close    Volume  \\\n",
       "0  2019-04-11  53.660000  54.099998  53.119999  53.683998  49179500   \n",
       "1  2019-04-12  54.043999  54.389999  53.366001  53.540001  33730000   \n",
       "2  2019-04-15  53.726002  53.776001  51.726002  53.276001  50193000   \n",
       "3  2019-04-16  53.150002  55.000000  52.944000  54.672001  36364500   \n",
       "4  2019-04-17  54.950001  54.958000  53.708000  54.245998  25632500   \n",
       "\n",
       "   Dividends  Stock Splits  \n",
       "0          0           0.0  \n",
       "1          0           0.0  \n",
       "2          0           0.0  \n",
       "3          0           0.0  \n",
       "4          0           0.0  "
      ]
     },
     "execution_count": 13,
     "metadata": {},
     "output_type": "execute_result"
    }
   ],
   "source": [
    "data.head()"
   ]
  },
  {
   "cell_type": "code",
   "execution_count": 14,
   "metadata": {},
   "outputs": [],
   "source": [
    "# 最后两列没用，去掉\n",
    "data = data.iloc[:,:6]\n",
    "base_data = copy.deepcopy(data)"
   ]
  },
  {
   "cell_type": "code",
   "execution_count": 15,
   "metadata": {},
   "outputs": [
    {
     "data": {
      "text/html": [
       "<div>\n",
       "<style scoped>\n",
       "    .dataframe tbody tr th:only-of-type {\n",
       "        vertical-align: middle;\n",
       "    }\n",
       "\n",
       "    .dataframe tbody tr th {\n",
       "        vertical-align: top;\n",
       "    }\n",
       "\n",
       "    .dataframe thead th {\n",
       "        text-align: right;\n",
       "    }\n",
       "</style>\n",
       "<table border=\"1\" class=\"dataframe\">\n",
       "  <thead>\n",
       "    <tr style=\"text-align: right;\">\n",
       "      <th></th>\n",
       "      <th>Date</th>\n",
       "      <th>Open</th>\n",
       "      <th>High</th>\n",
       "      <th>Low</th>\n",
       "      <th>Close</th>\n",
       "      <th>Volume</th>\n",
       "    </tr>\n",
       "  </thead>\n",
       "  <tbody>\n",
       "    <tr>\n",
       "      <th>0</th>\n",
       "      <td>2019-04-11</td>\n",
       "      <td>53.660000</td>\n",
       "      <td>54.099998</td>\n",
       "      <td>53.119999</td>\n",
       "      <td>53.683998</td>\n",
       "      <td>49179500</td>\n",
       "    </tr>\n",
       "    <tr>\n",
       "      <th>1</th>\n",
       "      <td>2019-04-12</td>\n",
       "      <td>54.043999</td>\n",
       "      <td>54.389999</td>\n",
       "      <td>53.366001</td>\n",
       "      <td>53.540001</td>\n",
       "      <td>33730000</td>\n",
       "    </tr>\n",
       "    <tr>\n",
       "      <th>2</th>\n",
       "      <td>2019-04-15</td>\n",
       "      <td>53.726002</td>\n",
       "      <td>53.776001</td>\n",
       "      <td>51.726002</td>\n",
       "      <td>53.276001</td>\n",
       "      <td>50193000</td>\n",
       "    </tr>\n",
       "    <tr>\n",
       "      <th>3</th>\n",
       "      <td>2019-04-16</td>\n",
       "      <td>53.150002</td>\n",
       "      <td>55.000000</td>\n",
       "      <td>52.944000</td>\n",
       "      <td>54.672001</td>\n",
       "      <td>36364500</td>\n",
       "    </tr>\n",
       "    <tr>\n",
       "      <th>4</th>\n",
       "      <td>2019-04-17</td>\n",
       "      <td>54.950001</td>\n",
       "      <td>54.958000</td>\n",
       "      <td>53.708000</td>\n",
       "      <td>54.245998</td>\n",
       "      <td>25632500</td>\n",
       "    </tr>\n",
       "  </tbody>\n",
       "</table>\n",
       "</div>"
      ],
      "text/plain": [
       "         Date       Open       High        Low      Close    Volume\n",
       "0  2019-04-11  53.660000  54.099998  53.119999  53.683998  49179500\n",
       "1  2019-04-12  54.043999  54.389999  53.366001  53.540001  33730000\n",
       "2  2019-04-15  53.726002  53.776001  51.726002  53.276001  50193000\n",
       "3  2019-04-16  53.150002  55.000000  52.944000  54.672001  36364500\n",
       "4  2019-04-17  54.950001  54.958000  53.708000  54.245998  25632500"
      ]
     },
     "execution_count": 15,
     "metadata": {},
     "output_type": "execute_result"
    }
   ],
   "source": [
    "data.head()"
   ]
  },
  {
   "cell_type": "code",
   "execution_count": 16,
   "metadata": {},
   "outputs": [],
   "source": [
    "data['Date'] = pd.to_datetime(data['Date'])\n"
   ]
  },
  {
   "cell_type": "code",
   "execution_count": 17,
   "metadata": {},
   "outputs": [],
   "source": [
    "train_data = data[:-30]\n",
    "test_data = data[-30:]"
   ]
  },
  {
   "cell_type": "code",
   "execution_count": 18,
   "metadata": {},
   "outputs": [
    {
     "data": {
      "image/png": "[encoded data removed]",
      "text/plain": [
       "<Figure size 1152x288 with 1 Axes>"
      ]
     },
     "metadata": {
      "needs_background": "light"
     },
     "output_type": "display_data"
    }
   ],
   "source": [
    "from matplotlib import pyplot as plt\n",
    "plt.rcParams['figure.figsize'] = (16.0, 4.0)\n",
    "\n",
    "plt.xlabel(\"date\")\n",
    "plt.ylabel(\"close\")\n",
    "\n",
    "plt.plot(data['Date'], data['Close'], label='real')\n",
    "\n",
    "\n",
    "plt.legend(loc='upper right')\n",
    "plt.savefig(\"close.png\",dpi=200)\n",
    "plt.show()"
   ]
  },
  {
   "cell_type": "code",
   "execution_count": 19,
   "metadata": {},
   "outputs": [
    {
     "data": {
      "image/png": "[encoded data removed]",
      "text/plain": [
       "<Figure size 1152x288 with 1 Axes>"
      ]
     },
     "metadata": {
      "needs_background": "light"
     },
     "output_type": "display_data"
    }
   ],
   "source": [
    "from matplotlib import pyplot as plt\n",
    "plt.rcParams['figure.figsize'] = (16.0, 4.0)\n",
    "\n",
    "plt.xlabel(\"date\")\n",
    "plt.ylabel(\"close\")\n",
    "\n",
    "plt.plot(test_data['Date'], test_data['Close'], label='real')\n",
    "\n",
    "\n",
    "plt.legend(loc='upper right')\n",
    "plt.savefig(\"last_month_close.png\",dpi=200)\n",
    "plt.show()"
   ]
  },
  {
   "cell_type": "code",
   "execution_count": null,
   "metadata": {},
   "outputs": [],
   "source": []
  },
  {
   "cell_type": "code",
   "execution_count": 20,
   "metadata": {},
   "outputs": [],
   "source": [
    "# 引入过去的数据\n",
    "def import_pass_info(final_data, base_data, columns, day):\n",
    "    # 去掉最后几天的数据\n",
    "    next_day_data = base_data[:-day]\n",
    "    # 补充前面缺失的数据\n",
    "    head_data = pd.DataFrame(columns=columns)\n",
    "    # 缺失几行补几行\n",
    "    for i in range(day):\n",
    "        l = {'Close':np.nan}\n",
    "        head_data = head_data.append(l,ignore_index=True)\n",
    "    # 补充前面数据\n",
    "    concat_data = pd.concat([head_data,next_day_data],axis=0)\n",
    "    # 将字段换一下名称\n",
    "    concat_data.columns = [\"next_{}_\".format(day) + i for i in columns]\n",
    "    # 去除索引\n",
    "    concat_data = concat_data.reset_index().drop(['index'],axis=1)\n",
    "    # 合并数据\n",
    "    data = pd.concat([final_data, concat_data],axis=1)\n",
    "    \n",
    "    # 和真实数据合并\n",
    "    return data"
   ]
  },
  {
   "cell_type": "code",
   "execution_count": 21,
   "metadata": {},
   "outputs": [],
   "source": [
    "columns = list(data.columns)"
   ]
  },
  {
   "cell_type": "code",
   "execution_count": 22,
   "metadata": {},
   "outputs": [
    {
     "data": {
      "text/plain": [
       "['Date', 'Open', 'High', 'Low', 'Close', 'Volume']"
      ]
     },
     "execution_count": 22,
     "metadata": {},
     "output_type": "execute_result"
    }
   ],
   "source": [
    "columns"
   ]
  },
  {
   "cell_type": "code",
   "execution_count": 23,
   "metadata": {},
   "outputs": [],
   "source": [
    "# 获取过去5天的数据\n",
    "for i in range(1, 6):\n",
    "    data = import_pass_info(data, base_data, columns, i)"
   ]
  },
  {
   "cell_type": "code",
   "execution_count": 24,
   "metadata": {},
   "outputs": [
    {
     "data": {
      "text/html": [
       "<div>\n",
       "<style scoped>\n",
       "    .dataframe tbody tr th:only-of-type {\n",
       "        vertical-align: middle;\n",
       "    }\n",
       "\n",
       "    .dataframe tbody tr th {\n",
       "        vertical-align: top;\n",
       "    }\n",
       "\n",
       "    .dataframe thead th {\n",
       "        text-align: right;\n",
       "    }\n",
       "</style>\n",
       "<table border=\"1\" class=\"dataframe\">\n",
       "  <thead>\n",
       "    <tr style=\"text-align: right;\">\n",
       "      <th></th>\n",
       "      <th>Date</th>\n",
       "      <th>Open</th>\n",
       "      <th>High</th>\n",
       "      <th>Low</th>\n",
       "      <th>Close</th>\n",
       "      <th>Volume</th>\n",
       "      <th>next_1_Date</th>\n",
       "      <th>next_1_Open</th>\n",
       "      <th>next_1_High</th>\n",
       "      <th>next_1_Low</th>\n",
       "      <th>...</th>\n",
       "      <th>next_4_High</th>\n",
       "      <th>next_4_Low</th>\n",
       "      <th>next_4_Close</th>\n",
       "      <th>next_4_Volume</th>\n",
       "      <th>next_5_Date</th>\n",
       "      <th>next_5_Open</th>\n",
       "      <th>next_5_High</th>\n",
       "      <th>next_5_Low</th>\n",
       "      <th>next_5_Close</th>\n",
       "      <th>next_5_Volume</th>\n",
       "    </tr>\n",
       "  </thead>\n",
       "  <tbody>\n",
       "    <tr>\n",
       "      <th>0</th>\n",
       "      <td>2019-04-11</td>\n",
       "      <td>53.660000</td>\n",
       "      <td>54.099998</td>\n",
       "      <td>53.119999</td>\n",
       "      <td>53.683998</td>\n",
       "      <td>49179500</td>\n",
       "      <td>NaN</td>\n",
       "      <td>NaN</td>\n",
       "      <td>NaN</td>\n",
       "      <td>NaN</td>\n",
       "      <td>...</td>\n",
       "      <td>NaN</td>\n",
       "      <td>NaN</td>\n",
       "      <td>NaN</td>\n",
       "      <td>NaN</td>\n",
       "      <td>NaN</td>\n",
       "      <td>NaN</td>\n",
       "      <td>NaN</td>\n",
       "      <td>NaN</td>\n",
       "      <td>NaN</td>\n",
       "      <td>NaN</td>\n",
       "    </tr>\n",
       "    <tr>\n",
       "      <th>1</th>\n",
       "      <td>2019-04-12</td>\n",
       "      <td>54.043999</td>\n",
       "      <td>54.389999</td>\n",
       "      <td>53.366001</td>\n",
       "      <td>53.540001</td>\n",
       "      <td>33730000</td>\n",
       "      <td>2019-04-11</td>\n",
       "      <td>53.660000</td>\n",
       "      <td>54.099998</td>\n",
       "      <td>53.119999</td>\n",
       "      <td>...</td>\n",
       "      <td>NaN</td>\n",
       "      <td>NaN</td>\n",
       "      <td>NaN</td>\n",
       "      <td>NaN</td>\n",
       "      <td>NaN</td>\n",
       "      <td>NaN</td>\n",
       "      <td>NaN</td>\n",
       "      <td>NaN</td>\n",
       "      <td>NaN</td>\n",
       "      <td>NaN</td>\n",
       "    </tr>\n",
       "    <tr>\n",
       "      <th>2</th>\n",
       "      <td>2019-04-15</td>\n",
       "      <td>53.726002</td>\n",
       "      <td>53.776001</td>\n",
       "      <td>51.726002</td>\n",
       "      <td>53.276001</td>\n",
       "      <td>50193000</td>\n",
       "      <td>2019-04-12</td>\n",
       "      <td>54.043999</td>\n",
       "      <td>54.389999</td>\n",
       "      <td>53.366001</td>\n",
       "      <td>...</td>\n",
       "      <td>NaN</td>\n",
       "      <td>NaN</td>\n",
       "      <td>NaN</td>\n",
       "      <td>NaN</td>\n",
       "      <td>NaN</td>\n",
       "      <td>NaN</td>\n",
       "      <td>NaN</td>\n",
       "      <td>NaN</td>\n",
       "      <td>NaN</td>\n",
       "      <td>NaN</td>\n",
       "    </tr>\n",
       "    <tr>\n",
       "      <th>3</th>\n",
       "      <td>2019-04-16</td>\n",
       "      <td>53.150002</td>\n",
       "      <td>55.000000</td>\n",
       "      <td>52.944000</td>\n",
       "      <td>54.672001</td>\n",
       "      <td>36364500</td>\n",
       "      <td>2019-04-15</td>\n",
       "      <td>53.726002</td>\n",
       "      <td>53.776001</td>\n",
       "      <td>51.726002</td>\n",
       "      <td>...</td>\n",
       "      <td>NaN</td>\n",
       "      <td>NaN</td>\n",
       "      <td>NaN</td>\n",
       "      <td>NaN</td>\n",
       "      <td>NaN</td>\n",
       "      <td>NaN</td>\n",
       "      <td>NaN</td>\n",
       "      <td>NaN</td>\n",
       "      <td>NaN</td>\n",
       "      <td>NaN</td>\n",
       "    </tr>\n",
       "    <tr>\n",
       "      <th>4</th>\n",
       "      <td>2019-04-17</td>\n",
       "      <td>54.950001</td>\n",
       "      <td>54.958000</td>\n",
       "      <td>53.708000</td>\n",
       "      <td>54.245998</td>\n",
       "      <td>25632500</td>\n",
       "      <td>2019-04-16</td>\n",
       "      <td>53.150002</td>\n",
       "      <td>55.000000</td>\n",
       "      <td>52.944000</td>\n",
       "      <td>...</td>\n",
       "      <td>54.099998</td>\n",
       "      <td>53.119999</td>\n",
       "      <td>53.683998</td>\n",
       "      <td>49179500</td>\n",
       "      <td>NaN</td>\n",
       "      <td>NaN</td>\n",
       "      <td>NaN</td>\n",
       "      <td>NaN</td>\n",
       "      <td>NaN</td>\n",
       "      <td>NaN</td>\n",
       "    </tr>\n",
       "    <tr>\n",
       "      <th>...</th>\n",
       "      <td>...</td>\n",
       "      <td>...</td>\n",
       "      <td>...</td>\n",
       "      <td>...</td>\n",
       "      <td>...</td>\n",
       "      <td>...</td>\n",
       "      <td>...</td>\n",
       "      <td>...</td>\n",
       "      <td>...</td>\n",
       "      <td>...</td>\n",
       "      <td>...</td>\n",
       "      <td>...</td>\n",
       "      <td>...</td>\n",
       "      <td>...</td>\n",
       "      <td>...</td>\n",
       "      <td>...</td>\n",
       "      <td>...</td>\n",
       "      <td>...</td>\n",
       "      <td>...</td>\n",
       "      <td>...</td>\n",
       "      <td>...</td>\n",
       "    </tr>\n",
       "    <tr>\n",
       "      <th>520</th>\n",
       "      <td>2021-05-05</td>\n",
       "      <td>681.059998</td>\n",
       "      <td>685.299988</td>\n",
       "      <td>667.340027</td>\n",
       "      <td>670.940002</td>\n",
       "      <td>21901900</td>\n",
       "      <td>2021-05-04</td>\n",
       "      <td>678.940002</td>\n",
       "      <td>683.450012</td>\n",
       "      <td>657.700012</td>\n",
       "      <td>...</td>\n",
       "      <td>702.250000</td>\n",
       "      <td>668.500000</td>\n",
       "      <td>677.000000</td>\n",
       "      <td>28845400</td>\n",
       "      <td>2021-04-28</td>\n",
       "      <td>696.409973</td>\n",
       "      <td>708.500000</td>\n",
       "      <td>693.599976</td>\n",
       "      <td>694.400024</td>\n",
       "      <td>22271000</td>\n",
       "    </tr>\n",
       "    <tr>\n",
       "      <th>521</th>\n",
       "      <td>2021-05-06</td>\n",
       "      <td>680.760010</td>\n",
       "      <td>681.020020</td>\n",
       "      <td>650.000000</td>\n",
       "      <td>663.539978</td>\n",
       "      <td>27784600</td>\n",
       "      <td>2021-05-05</td>\n",
       "      <td>681.059998</td>\n",
       "      <td>685.299988</td>\n",
       "      <td>667.340027</td>\n",
       "      <td>...</td>\n",
       "      <td>715.469971</td>\n",
       "      <td>666.140015</td>\n",
       "      <td>709.440002</td>\n",
       "      <td>40686400</td>\n",
       "      <td>2021-04-29</td>\n",
       "      <td>699.510010</td>\n",
       "      <td>702.250000</td>\n",
       "      <td>668.500000</td>\n",
       "      <td>677.000000</td>\n",
       "      <td>28845400</td>\n",
       "    </tr>\n",
       "    <tr>\n",
       "      <th>522</th>\n",
       "      <td>2021-05-07</td>\n",
       "      <td>665.799988</td>\n",
       "      <td>690.000000</td>\n",
       "      <td>660.219971</td>\n",
       "      <td>672.369995</td>\n",
       "      <td>23422100</td>\n",
       "      <td>2021-05-06</td>\n",
       "      <td>680.760010</td>\n",
       "      <td>681.020020</td>\n",
       "      <td>650.000000</td>\n",
       "      <td>...</td>\n",
       "      <td>706.000000</td>\n",
       "      <td>680.500000</td>\n",
       "      <td>684.900024</td>\n",
       "      <td>27043100</td>\n",
       "      <td>2021-04-30</td>\n",
       "      <td>667.590027</td>\n",
       "      <td>715.469971</td>\n",
       "      <td>666.140015</td>\n",
       "      <td>709.440002</td>\n",
       "      <td>40686400</td>\n",
       "    </tr>\n",
       "    <tr>\n",
       "      <th>523</th>\n",
       "      <td>2021-05-10</td>\n",
       "      <td>664.900024</td>\n",
       "      <td>665.049988</td>\n",
       "      <td>627.609985</td>\n",
       "      <td>629.039978</td>\n",
       "      <td>31392400</td>\n",
       "      <td>2021-05-07</td>\n",
       "      <td>665.799988</td>\n",
       "      <td>690.000000</td>\n",
       "      <td>660.219971</td>\n",
       "      <td>...</td>\n",
       "      <td>683.450012</td>\n",
       "      <td>657.700012</td>\n",
       "      <td>673.599976</td>\n",
       "      <td>29739300</td>\n",
       "      <td>2021-05-03</td>\n",
       "      <td>703.799988</td>\n",
       "      <td>706.000000</td>\n",
       "      <td>680.500000</td>\n",
       "      <td>684.900024</td>\n",
       "      <td>27043100</td>\n",
       "    </tr>\n",
       "    <tr>\n",
       "      <th>524</th>\n",
       "      <td>2021-05-11</td>\n",
       "      <td>599.239990</td>\n",
       "      <td>627.099976</td>\n",
       "      <td>595.599976</td>\n",
       "      <td>617.200012</td>\n",
       "      <td>46437200</td>\n",
       "      <td>2021-05-10</td>\n",
       "      <td>664.900024</td>\n",
       "      <td>665.049988</td>\n",
       "      <td>627.609985</td>\n",
       "      <td>...</td>\n",
       "      <td>685.299988</td>\n",
       "      <td>667.340027</td>\n",
       "      <td>670.940002</td>\n",
       "      <td>21901900</td>\n",
       "      <td>2021-05-04</td>\n",
       "      <td>678.940002</td>\n",
       "      <td>683.450012</td>\n",
       "      <td>657.700012</td>\n",
       "      <td>673.599976</td>\n",
       "      <td>29739300</td>\n",
       "    </tr>\n",
       "  </tbody>\n",
       "</table>\n",
       "<p>525 rows × 36 columns</p>\n",
       "</div>"
      ],
      "text/plain": [
       "          Date        Open        High         Low       Close    Volume  \\\n",
       "0   2019-04-11   53.660000   54.099998   53.119999   53.683998  49179500   \n",
       "1   2019-04-12   54.043999   54.389999   53.366001   53.540001  33730000   \n",
       "2   2019-04-15   53.726002   53.776001   51.726002   53.276001  50193000   \n",
       "3   2019-04-16   53.150002   55.000000   52.944000   54.672001  36364500   \n",
       "4   2019-04-17   54.950001   54.958000   53.708000   54.245998  25632500   \n",
       "..         ...         ...         ...         ...         ...       ...   \n",
       "520 2021-05-05  681.059998  685.299988  667.340027  670.940002  21901900   \n",
       "521 2021-05-06  680.760010  681.020020  650.000000  663.539978  27784600   \n",
       "522 2021-05-07  665.799988  690.000000  660.219971  672.369995  23422100   \n",
       "523 2021-05-10  664.900024  665.049988  627.609985  629.039978  31392400   \n",
       "524 2021-05-11  599.239990  627.099976  595.599976  617.200012  46437200   \n",
       "\n",
       "    next_1_Date  next_1_Open  next_1_High  next_1_Low  ...  next_4_High  \\\n",
       "0           NaN          NaN          NaN         NaN  ...          NaN   \n",
       "1    2019-04-11    53.660000    54.099998   53.119999  ...          NaN   \n",
       "2    2019-04-12    54.043999    54.389999   53.366001  ...          NaN   \n",
       "3    2019-04-15    53.726002    53.776001   51.726002  ...          NaN   \n",
       "4    2019-04-16    53.150002    55.000000   52.944000  ...    54.099998   \n",
       "..          ...          ...          ...         ...  ...          ...   \n",
       "520  2021-05-04   678.940002   683.450012  657.700012  ...   702.250000   \n",
       "521  2021-05-05   681.059998   685.299988  667.340027  ...   715.469971   \n",
       "522  2021-05-06   680.760010   681.020020  650.000000  ...   706.000000   \n",
       "523  2021-05-07   665.799988   690.000000  660.219971  ...   683.450012   \n",
       "524  2021-05-10   664.900024   665.049988  627.609985  ...   685.299988   \n",
       "\n",
       "     next_4_Low next_4_Close  next_4_Volume  next_5_Date  next_5_Open  \\\n",
       "0           NaN          NaN            NaN          NaN          NaN   \n",
       "1           NaN          NaN            NaN          NaN          NaN   \n",
       "2           NaN          NaN            NaN          NaN          NaN   \n",
       "3           NaN          NaN            NaN          NaN          NaN   \n",
       "4     53.119999    53.683998       49179500          NaN          NaN   \n",
       "..          ...          ...            ...          ...          ...   \n",
       "520  668.500000   677.000000       28845400   2021-04-28   696.409973   \n",
       "521  666.140015   709.440002       40686400   2021-04-29   699.510010   \n",
       "522  680.500000   684.900024       27043100   2021-04-30   667.590027   \n",
       "523  657.700012   673.599976       29739300   2021-05-03   703.799988   \n",
       "524  667.340027   670.940002       21901900   2021-05-04   678.940002   \n",
       "\n",
       "     next_5_High  next_5_Low next_5_Close  next_5_Volume  \n",
       "0            NaN         NaN          NaN            NaN  \n",
       "1            NaN         NaN          NaN            NaN  \n",
       "2            NaN         NaN          NaN            NaN  \n",
       "3            NaN         NaN          NaN            NaN  \n",
       "4            NaN         NaN          NaN            NaN  \n",
       "..           ...         ...          ...            ...  \n",
       "520   708.500000  693.599976   694.400024       22271000  \n",
       "521   702.250000  668.500000   677.000000       28845400  \n",
       "522   715.469971  666.140015   709.440002       40686400  \n",
       "523   706.000000  680.500000   684.900024       27043100  \n",
       "524   683.450012  657.700012   673.599976       29739300  \n",
       "\n",
       "[525 rows x 36 columns]"
      ]
     },
     "execution_count": 24,
     "metadata": {},
     "output_type": "execute_result"
    }
   ],
   "source": [
    "data"
   ]
  },
  {
   "cell_type": "code",
   "execution_count": 25,
   "metadata": {},
   "outputs": [
    {
     "data": {
      "text/html": [
       "<div>\n",
       "<style scoped>\n",
       "    .dataframe tbody tr th:only-of-type {\n",
       "        vertical-align: middle;\n",
       "    }\n",
       "\n",
       "    .dataframe tbody tr th {\n",
       "        vertical-align: top;\n",
       "    }\n",
       "\n",
       "    .dataframe thead th {\n",
       "        text-align: right;\n",
       "    }\n",
       "</style>\n",
       "<table border=\"1\" class=\"dataframe\">\n",
       "  <thead>\n",
       "    <tr style=\"text-align: right;\">\n",
       "      <th></th>\n",
       "      <th>Date</th>\n",
       "      <th>Close</th>\n",
       "      <th>next_1_Open</th>\n",
       "      <th>next_1_High</th>\n",
       "      <th>next_1_Low</th>\n",
       "      <th>next_1_Close</th>\n",
       "      <th>next_1_Volume</th>\n",
       "      <th>next_2_Open</th>\n",
       "      <th>next_2_High</th>\n",
       "      <th>next_2_Low</th>\n",
       "      <th>...</th>\n",
       "      <th>next_4_Open</th>\n",
       "      <th>next_4_High</th>\n",
       "      <th>next_4_Low</th>\n",
       "      <th>next_4_Close</th>\n",
       "      <th>next_4_Volume</th>\n",
       "      <th>next_5_Open</th>\n",
       "      <th>next_5_High</th>\n",
       "      <th>next_5_Low</th>\n",
       "      <th>next_5_Close</th>\n",
       "      <th>next_5_Volume</th>\n",
       "    </tr>\n",
       "  </thead>\n",
       "  <tbody>\n",
       "    <tr>\n",
       "      <th>5</th>\n",
       "      <td>2019-04-18</td>\n",
       "      <td>54.652000</td>\n",
       "      <td>54.950001</td>\n",
       "      <td>54.958000</td>\n",
       "      <td>53.708000</td>\n",
       "      <td>54.245998</td>\n",
       "      <td>25632500</td>\n",
       "      <td>53.150002</td>\n",
       "      <td>55.000000</td>\n",
       "      <td>52.944000</td>\n",
       "      <td>...</td>\n",
       "      <td>54.043999</td>\n",
       "      <td>54.389999</td>\n",
       "      <td>53.366001</td>\n",
       "      <td>53.540001</td>\n",
       "      <td>33730000</td>\n",
       "      <td>53.660000</td>\n",
       "      <td>54.099998</td>\n",
       "      <td>53.119999</td>\n",
       "      <td>53.683998</td>\n",
       "      <td>49179500</td>\n",
       "    </tr>\n",
       "    <tr>\n",
       "      <th>6</th>\n",
       "      <td>2019-04-22</td>\n",
       "      <td>52.549999</td>\n",
       "      <td>54.245998</td>\n",
       "      <td>54.967999</td>\n",
       "      <td>53.950001</td>\n",
       "      <td>54.652000</td>\n",
       "      <td>29381500</td>\n",
       "      <td>54.950001</td>\n",
       "      <td>54.958000</td>\n",
       "      <td>53.708000</td>\n",
       "      <td>...</td>\n",
       "      <td>53.726002</td>\n",
       "      <td>53.776001</td>\n",
       "      <td>51.726002</td>\n",
       "      <td>53.276001</td>\n",
       "      <td>50193000</td>\n",
       "      <td>54.043999</td>\n",
       "      <td>54.389999</td>\n",
       "      <td>53.366001</td>\n",
       "      <td>53.540001</td>\n",
       "      <td>33730000</td>\n",
       "    </tr>\n",
       "    <tr>\n",
       "      <th>7</th>\n",
       "      <td>2019-04-23</td>\n",
       "      <td>52.779999</td>\n",
       "      <td>53.799999</td>\n",
       "      <td>53.936001</td>\n",
       "      <td>52.495998</td>\n",
       "      <td>52.549999</td>\n",
       "      <td>60735500</td>\n",
       "      <td>54.245998</td>\n",
       "      <td>54.967999</td>\n",
       "      <td>53.950001</td>\n",
       "      <td>...</td>\n",
       "      <td>53.150002</td>\n",
       "      <td>55.000000</td>\n",
       "      <td>52.944000</td>\n",
       "      <td>54.672001</td>\n",
       "      <td>36364500</td>\n",
       "      <td>53.726002</td>\n",
       "      <td>53.776001</td>\n",
       "      <td>51.726002</td>\n",
       "      <td>53.276001</td>\n",
       "      <td>50193000</td>\n",
       "    </tr>\n",
       "    <tr>\n",
       "      <th>8</th>\n",
       "      <td>2019-04-24</td>\n",
       "      <td>51.731998</td>\n",
       "      <td>52.029999</td>\n",
       "      <td>53.119999</td>\n",
       "      <td>51.150002</td>\n",
       "      <td>52.779999</td>\n",
       "      <td>54719500</td>\n",
       "      <td>53.799999</td>\n",
       "      <td>53.936001</td>\n",
       "      <td>52.495998</td>\n",
       "      <td>...</td>\n",
       "      <td>54.950001</td>\n",
       "      <td>54.958000</td>\n",
       "      <td>53.708000</td>\n",
       "      <td>54.245998</td>\n",
       "      <td>25632500</td>\n",
       "      <td>53.150002</td>\n",
       "      <td>55.000000</td>\n",
       "      <td>52.944000</td>\n",
       "      <td>54.672001</td>\n",
       "      <td>36364500</td>\n",
       "    </tr>\n",
       "    <tr>\n",
       "      <th>9</th>\n",
       "      <td>2019-04-25</td>\n",
       "      <td>49.526001</td>\n",
       "      <td>52.770000</td>\n",
       "      <td>53.063999</td>\n",
       "      <td>51.599998</td>\n",
       "      <td>51.731998</td>\n",
       "      <td>53637500</td>\n",
       "      <td>52.029999</td>\n",
       "      <td>53.119999</td>\n",
       "      <td>51.150002</td>\n",
       "      <td>...</td>\n",
       "      <td>54.245998</td>\n",
       "      <td>54.967999</td>\n",
       "      <td>53.950001</td>\n",
       "      <td>54.652000</td>\n",
       "      <td>29381500</td>\n",
       "      <td>54.950001</td>\n",
       "      <td>54.958000</td>\n",
       "      <td>53.708000</td>\n",
       "      <td>54.245998</td>\n",
       "      <td>25632500</td>\n",
       "    </tr>\n",
       "    <tr>\n",
       "      <th>...</th>\n",
       "      <td>...</td>\n",
       "      <td>...</td>\n",
       "      <td>...</td>\n",
       "      <td>...</td>\n",
       "      <td>...</td>\n",
       "      <td>...</td>\n",
       "      <td>...</td>\n",
       "      <td>...</td>\n",
       "      <td>...</td>\n",
       "      <td>...</td>\n",
       "      <td>...</td>\n",
       "      <td>...</td>\n",
       "      <td>...</td>\n",
       "      <td>...</td>\n",
       "      <td>...</td>\n",
       "      <td>...</td>\n",
       "      <td>...</td>\n",
       "      <td>...</td>\n",
       "      <td>...</td>\n",
       "      <td>...</td>\n",
       "      <td>...</td>\n",
       "    </tr>\n",
       "    <tr>\n",
       "      <th>520</th>\n",
       "      <td>2021-05-05</td>\n",
       "      <td>670.940002</td>\n",
       "      <td>678.940002</td>\n",
       "      <td>683.450012</td>\n",
       "      <td>657.700012</td>\n",
       "      <td>673.599976</td>\n",
       "      <td>29739300</td>\n",
       "      <td>703.799988</td>\n",
       "      <td>706.000000</td>\n",
       "      <td>680.500000</td>\n",
       "      <td>...</td>\n",
       "      <td>699.510010</td>\n",
       "      <td>702.250000</td>\n",
       "      <td>668.500000</td>\n",
       "      <td>677.000000</td>\n",
       "      <td>28845400</td>\n",
       "      <td>696.409973</td>\n",
       "      <td>708.500000</td>\n",
       "      <td>693.599976</td>\n",
       "      <td>694.400024</td>\n",
       "      <td>22271000</td>\n",
       "    </tr>\n",
       "    <tr>\n",
       "      <th>521</th>\n",
       "      <td>2021-05-06</td>\n",
       "      <td>663.539978</td>\n",
       "      <td>681.059998</td>\n",
       "      <td>685.299988</td>\n",
       "      <td>667.340027</td>\n",
       "      <td>670.940002</td>\n",
       "      <td>21901900</td>\n",
       "      <td>678.940002</td>\n",
       "      <td>683.450012</td>\n",
       "      <td>657.700012</td>\n",
       "      <td>...</td>\n",
       "      <td>667.590027</td>\n",
       "      <td>715.469971</td>\n",
       "      <td>666.140015</td>\n",
       "      <td>709.440002</td>\n",
       "      <td>40686400</td>\n",
       "      <td>699.510010</td>\n",
       "      <td>702.250000</td>\n",
       "      <td>668.500000</td>\n",
       "      <td>677.000000</td>\n",
       "      <td>28845400</td>\n",
       "    </tr>\n",
       "    <tr>\n",
       "      <th>522</th>\n",
       "      <td>2021-05-07</td>\n",
       "      <td>672.369995</td>\n",
       "      <td>680.760010</td>\n",
       "      <td>681.020020</td>\n",
       "      <td>650.000000</td>\n",
       "      <td>663.539978</td>\n",
       "      <td>27784600</td>\n",
       "      <td>681.059998</td>\n",
       "      <td>685.299988</td>\n",
       "      <td>667.340027</td>\n",
       "      <td>...</td>\n",
       "      <td>703.799988</td>\n",
       "      <td>706.000000</td>\n",
       "      <td>680.500000</td>\n",
       "      <td>684.900024</td>\n",
       "      <td>27043100</td>\n",
       "      <td>667.590027</td>\n",
       "      <td>715.469971</td>\n",
       "      <td>666.140015</td>\n",
       "      <td>709.440002</td>\n",
       "      <td>40686400</td>\n",
       "    </tr>\n",
       "    <tr>\n",
       "      <th>523</th>\n",
       "      <td>2021-05-10</td>\n",
       "      <td>629.039978</td>\n",
       "      <td>665.799988</td>\n",
       "      <td>690.000000</td>\n",
       "      <td>660.219971</td>\n",
       "      <td>672.369995</td>\n",
       "      <td>23422100</td>\n",
       "      <td>680.760010</td>\n",
       "      <td>681.020020</td>\n",
       "      <td>650.000000</td>\n",
       "      <td>...</td>\n",
       "      <td>678.940002</td>\n",
       "      <td>683.450012</td>\n",
       "      <td>657.700012</td>\n",
       "      <td>673.599976</td>\n",
       "      <td>29739300</td>\n",
       "      <td>703.799988</td>\n",
       "      <td>706.000000</td>\n",
       "      <td>680.500000</td>\n",
       "      <td>684.900024</td>\n",
       "      <td>27043100</td>\n",
       "    </tr>\n",
       "    <tr>\n",
       "      <th>524</th>\n",
       "      <td>2021-05-11</td>\n",
       "      <td>617.200012</td>\n",
       "      <td>664.900024</td>\n",
       "      <td>665.049988</td>\n",
       "      <td>627.609985</td>\n",
       "      <td>629.039978</td>\n",
       "      <td>31392400</td>\n",
       "      <td>665.799988</td>\n",
       "      <td>690.000000</td>\n",
       "      <td>660.219971</td>\n",
       "      <td>...</td>\n",
       "      <td>681.059998</td>\n",
       "      <td>685.299988</td>\n",
       "      <td>667.340027</td>\n",
       "      <td>670.940002</td>\n",
       "      <td>21901900</td>\n",
       "      <td>678.940002</td>\n",
       "      <td>683.450012</td>\n",
       "      <td>657.700012</td>\n",
       "      <td>673.599976</td>\n",
       "      <td>29739300</td>\n",
       "    </tr>\n",
       "  </tbody>\n",
       "</table>\n",
       "<p>520 rows × 27 columns</p>\n",
       "</div>"
      ],
      "text/plain": [
       "          Date       Close  next_1_Open  next_1_High  next_1_Low  \\\n",
       "5   2019-04-18   54.652000    54.950001    54.958000   53.708000   \n",
       "6   2019-04-22   52.549999    54.245998    54.967999   53.950001   \n",
       "7   2019-04-23   52.779999    53.799999    53.936001   52.495998   \n",
       "8   2019-04-24   51.731998    52.029999    53.119999   51.150002   \n",
       "9   2019-04-25   49.526001    52.770000    53.063999   51.599998   \n",
       "..         ...         ...          ...          ...         ...   \n",
       "520 2021-05-05  670.940002   678.940002   683.450012  657.700012   \n",
       "521 2021-05-06  663.539978   681.059998   685.299988  667.340027   \n",
       "522 2021-05-07  672.369995   680.760010   681.020020  650.000000   \n",
       "523 2021-05-10  629.039978   665.799988   690.000000  660.219971   \n",
       "524 2021-05-11  617.200012   664.900024   665.049988  627.609985   \n",
       "\n",
       "     next_1_Close next_1_Volume  next_2_Open  next_2_High  next_2_Low  ...  \\\n",
       "5       54.245998      25632500    53.150002    55.000000   52.944000  ...   \n",
       "6       54.652000      29381500    54.950001    54.958000   53.708000  ...   \n",
       "7       52.549999      60735500    54.245998    54.967999   53.950001  ...   \n",
       "8       52.779999      54719500    53.799999    53.936001   52.495998  ...   \n",
       "9       51.731998      53637500    52.029999    53.119999   51.150002  ...   \n",
       "..            ...           ...          ...          ...         ...  ...   \n",
       "520    673.599976      29739300   703.799988   706.000000  680.500000  ...   \n",
       "521    670.940002      21901900   678.940002   683.450012  657.700012  ...   \n",
       "522    663.539978      27784600   681.059998   685.299988  667.340027  ...   \n",
       "523    672.369995      23422100   680.760010   681.020020  650.000000  ...   \n",
       "524    629.039978      31392400   665.799988   690.000000  660.219971  ...   \n",
       "\n",
       "     next_4_Open next_4_High  next_4_Low  next_4_Close  next_4_Volume  \\\n",
       "5      54.043999   54.389999   53.366001     53.540001       33730000   \n",
       "6      53.726002   53.776001   51.726002     53.276001       50193000   \n",
       "7      53.150002   55.000000   52.944000     54.672001       36364500   \n",
       "8      54.950001   54.958000   53.708000     54.245998       25632500   \n",
       "9      54.245998   54.967999   53.950001     54.652000       29381500   \n",
       "..           ...         ...         ...           ...            ...   \n",
       "520   699.510010  702.250000  668.500000    677.000000       28845400   \n",
       "521   667.590027  715.469971  666.140015    709.440002       40686400   \n",
       "522   703.799988  706.000000  680.500000    684.900024       27043100   \n",
       "523   678.940002  683.450012  657.700012    673.599976       29739300   \n",
       "524   681.059998  685.299988  667.340027    670.940002       21901900   \n",
       "\n",
       "     next_5_Open next_5_High  next_5_Low  next_5_Close  next_5_Volume  \n",
       "5      53.660000   54.099998   53.119999     53.683998       49179500  \n",
       "6      54.043999   54.389999   53.366001     53.540001       33730000  \n",
       "7      53.726002   53.776001   51.726002     53.276001       50193000  \n",
       "8      53.150002   55.000000   52.944000     54.672001       36364500  \n",
       "9      54.950001   54.958000   53.708000     54.245998       25632500  \n",
       "..           ...         ...         ...           ...            ...  \n",
       "520   696.409973  708.500000  693.599976    694.400024       22271000  \n",
       "521   699.510010  702.250000  668.500000    677.000000       28845400  \n",
       "522   667.590027  715.469971  666.140015    709.440002       40686400  \n",
       "523   703.799988  706.000000  680.500000    684.900024       27043100  \n",
       "524   678.940002  683.450012  657.700012    673.599976       29739300  \n",
       "\n",
       "[520 rows x 27 columns]"
      ]
     },
     "execution_count": 25,
     "metadata": {},
     "output_type": "execute_result"
    }
   ],
   "source": [
    "# 去掉含nan值的数据\n",
    "data = data.dropna()\n",
    "# 去掉所有日期\n",
    "for i in range(1,6):\n",
    "    data = data.drop(['next_{}_Date'.format(i)],axis=1)\n",
    "\n",
    "# 由于要预测的是未来一天，所以未来一天的所有数据也是未知的，去除掉open,high,low,volume（保留过去5天的这些字段）\n",
    "data = data.drop(['Open','High','Low',\"Volume\"],axis=1)\n",
    "data"
   ]
  },
  {
   "cell_type": "code",
   "execution_count": 16,
   "metadata": {},
   "outputs": [],
   "source": [
    "# 因为数据量太小，所以只使用最后22个交易日作为测试集（差不多一个月），倒数50到倒数22个交易日的数据作为验证集\n",
    "test_data = data[-22:]\n",
    "valid_data = data[-50:-22]\n",
    "train_data = data[:-50]"
   ]
  },
  {
   "cell_type": "code",
   "execution_count": null,
   "metadata": {},
   "outputs": [],
   "source": []
  },
  {
   "cell_type": "code",
   "execution_count": null,
   "metadata": {},
   "outputs": [],
   "source": []
  },
  {
   "cell_type": "code",
   "execution_count": 17,
   "metadata": {},
   "outputs": [],
   "source": [
    "# 提取训练集，验证集，测试集的close，并且去掉close\n",
    "y_train = train_data['Close']\n",
    "X_train = train_data.drop(['Close'],axis=1)\n",
    "\n",
    "y_valid = valid_data['Close']\n",
    "X_valid = valid_data.drop(['Close'],axis=1)\n",
    "\n",
    "y_test = test_data['Close']\n",
    "X_test = test_data.drop(['Close'],axis=1)"
   ]
  },
  {
   "cell_type": "code",
   "execution_count": null,
   "metadata": {},
   "outputs": [],
   "source": []
  },
  {
   "cell_type": "code",
   "execution_count": null,
   "metadata": {},
   "outputs": [],
   "source": []
  },
  {
   "cell_type": "code",
   "execution_count": 18,
   "metadata": {},
   "outputs": [],
   "source": [
    "# 提取date用于画图\n",
    "train_date = X_train['Date']\n",
    "valid_date = X_valid['Date']\n",
    "test_date  = X_test['Date']\n"
   ]
  },
  {
   "cell_type": "code",
   "execution_count": 19,
   "metadata": {},
   "outputs": [],
   "source": [
    "# 去掉date\n",
    "X_train = X_train.drop(['Date'],axis=1)\n",
    "X_valid = X_valid.drop(['Date'],axis=1)\n",
    "X_test = X_test.drop(['Date'],axis=1)"
   ]
  },
  {
   "cell_type": "code",
   "execution_count": 20,
   "metadata": {},
   "outputs": [],
   "source": [
    "# 转化为numpy向量\n",
    "X_train = np.array(X_train)\n",
    "y_train = np.array(y_train)\n",
    "\n",
    "X_valid = np.array(X_valid)\n",
    "y_valid = np.array(y_valid)\n",
    "\n",
    "X_test = np.array(X_test)\n",
    "y_test = np.array(y_test)"
   ]
  },
  {
   "cell_type": "code",
   "execution_count": 21,
   "metadata": {},
   "outputs": [],
   "source": [
    "# scaler\n",
    "from sklearn import preprocessing\n",
    "\n",
    "scaler_X = preprocessing.MinMaxScaler()\n",
    "\n",
    "scaler_X.fit(X_train) \n",
    "X_train = scaler_X.transform(X_train)\n",
    "X_test = scaler_X.transform(X_test)\n",
    "X_valid = scaler_X.transform(X_valid)\n"
   ]
  },
  {
   "cell_type": "markdown",
   "metadata": {},
   "source": [
    "# linear regression"
   ]
  },
  {
   "cell_type": "code",
   "execution_count": 22,
   "metadata": {},
   "outputs": [
    {
     "data": {
      "text/plain": [
       "LinearRegression()"
      ]
     },
     "execution_count": 22,
     "metadata": {},
     "output_type": "execute_result"
    }
   ],
   "source": [
    "from sklearn.linear_model import LinearRegression\n",
    "model = LinearRegression()\n",
    "model.fit(X_train, y_train)"
   ]
  },
  {
   "cell_type": "code",
   "execution_count": 23,
   "metadata": {},
   "outputs": [],
   "source": [
    "train_predictions = model.predict(X_train)\n",
    "valid_predictions = model.predict(X_valid)"
   ]
  },
  {
   "cell_type": "code",
   "execution_count": null,
   "metadata": {},
   "outputs": [],
   "source": []
  },
  {
   "cell_type": "code",
   "execution_count": 24,
   "metadata": {},
   "outputs": [
    {
     "name": "stdout",
     "output_type": "stream",
     "text": [
      "train mse: 185.24908342782473 valid mse: 1403.3426125476794\n"
     ]
    }
   ],
   "source": [
    "# 查看mse\n",
    "train_mse = metrics.mean_squared_error(y_train, train_predictions)\n",
    "valid_mse = metrics.mean_squared_error(y_valid, valid_predictions) \n",
    "print(\"train mse: {} valid mse: {}\".format(train_mse, valid_mse))"
   ]
  },
  {
   "cell_type": "code",
   "execution_count": 25,
   "metadata": {},
   "outputs": [
    {
     "data": {
      "image/png": "[encoded data removed]",
      "text/plain": [
       "<Figure size 864x288 with 1 Axes>"
      ]
     },
     "metadata": {
      "needs_background": "light"
     },
     "output_type": "display_data"
    }
   ],
   "source": [
    "from matplotlib import pyplot as plt\n",
    "plt.rcParams['figure.figsize'] = (12.0, 4.0)\n",
    "\n",
    "plt.xlabel(\"date\")\n",
    "plt.ylabel(\"close\")\n",
    "\n",
    "plt.plot(train_date, y_train, label='real')\n",
    "plt.plot(train_date, train_predictions, label='predictions')\n",
    "\n",
    "\n",
    "plt.legend(loc='upper right')\n",
    "plt.savefig(\"train-predict-linear-scaler.png\",dpi=200)\n",
    "plt.show()"
   ]
  },
  {
   "cell_type": "code",
   "execution_count": 26,
   "metadata": {},
   "outputs": [
    {
     "data": {
      "image/png": "[encoded data removed]",
      "text/plain": [
       "<Figure size 864x288 with 1 Axes>"
      ]
     },
     "metadata": {
      "needs_background": "light"
     },
     "output_type": "display_data"
    }
   ],
   "source": [
    "from matplotlib import pyplot as plt\n",
    "plt.rcParams['figure.figsize'] = (12.0, 4.0)\n",
    "\n",
    "plt.xlabel(\"date\")\n",
    "plt.ylabel(\"close\")\n",
    "\n",
    "plt.plot(valid_date, y_valid, label='real')\n",
    "plt.plot(valid_date, valid_predictions, label='predictions')\n",
    "\n",
    "\n",
    "plt.legend(loc='upper right')\n",
    "plt.savefig(\"valid-predict-linear-scaler.png\",dpi=200)\n",
    "plt.show()"
   ]
  },
  {
   "cell_type": "code",
   "execution_count": 27,
   "metadata": {},
   "outputs": [
    {
     "name": "stdout",
     "output_type": "stream",
     "text": [
      "test_mse: 699.818253553175\n"
     ]
    }
   ],
   "source": [
    "test_predictions = model.predict(X_test)\n",
    "test_mse = metrics.mean_squared_error(y_test, test_predictions)\n",
    "print('test_mse: {}'.format(test_mse))"
   ]
  },
  {
   "cell_type": "code",
   "execution_count": 28,
   "metadata": {},
   "outputs": [
    {
     "data": {
      "image/png": "[encoded data removed]",
      "text/plain": [
       "<Figure size 864x288 with 1 Axes>"
      ]
     },
     "metadata": {
      "needs_background": "light"
     },
     "output_type": "display_data"
    }
   ],
   "source": [
    "from matplotlib import pyplot as plt\n",
    "plt.rcParams['figure.figsize'] = (12.0, 4.0)\n",
    "\n",
    "plt.xlabel(\"date\")\n",
    "plt.ylabel(\"close\")\n",
    "\n",
    "plt.plot(test_date, y_test, label='real')\n",
    "plt.plot(test_date, test_predictions, label='predictions')\n",
    "\n",
    "\n",
    "plt.legend(loc='upper right')\n",
    "plt.savefig(\"test-predict-linear-scaler.png\",dpi=200)\n",
    "plt.show()"
   ]
  },
  {
   "cell_type": "code",
   "execution_count": null,
   "metadata": {},
   "outputs": [],
   "source": []
  },
  {
   "cell_type": "markdown",
   "metadata": {},
   "source": [
    "# SGD regrerssion"
   ]
  },
  {
   "cell_type": "code",
   "execution_count": 29,
   "metadata": {},
   "outputs": [
    {
     "data": {
      "text/plain": [
       "SGDRegressor(random_state=6)"
      ]
     },
     "execution_count": 29,
     "metadata": {},
     "output_type": "execute_result"
    }
   ],
   "source": [
    "from sklearn.linear_model import SGDRegressor\n",
    "model=SGDRegressor(random_state=6)\n",
    "model.fit(X_train, y_train)"
   ]
  },
  {
   "cell_type": "code",
   "execution_count": null,
   "metadata": {},
   "outputs": [],
   "source": []
  },
  {
   "cell_type": "code",
   "execution_count": 30,
   "metadata": {},
   "outputs": [],
   "source": [
    "train_predictions = model.predict(X_train)\n",
    "valid_predictions = model.predict(X_valid)"
   ]
  },
  {
   "cell_type": "code",
   "execution_count": null,
   "metadata": {},
   "outputs": [],
   "source": []
  },
  {
   "cell_type": "code",
   "execution_count": 31,
   "metadata": {},
   "outputs": [
    {
     "name": "stdout",
     "output_type": "stream",
     "text": [
      "train mse: 437.51056610932966 valid mse: 1843.1334836449837\n"
     ]
    }
   ],
   "source": [
    "# 查看mse\n",
    "train_mse = metrics.mean_squared_error(y_train, train_predictions)\n",
    "valid_mse = metrics.mean_squared_error(y_valid, valid_predictions) \n",
    "print(\"train mse: {} valid mse: {}\".format(train_mse, valid_mse))\n"
   ]
  },
  {
   "cell_type": "code",
   "execution_count": 32,
   "metadata": {},
   "outputs": [
    {
     "data": {
      "image/png": "[encoded data removed]",
      "text/plain": [
       "<Figure size 864x288 with 1 Axes>"
      ]
     },
     "metadata": {
      "needs_background": "light"
     },
     "output_type": "display_data"
    }
   ],
   "source": [
    "from matplotlib import pyplot as plt\n",
    "plt.rcParams['figure.figsize'] = (12.0, 4.0)\n",
    "\n",
    "plt.xlabel(\"date\")\n",
    "plt.ylabel(\"close\")\n",
    "\n",
    "plt.plot(train_date, y_train, label='real')\n",
    "plt.plot(train_date, train_predictions, label='predictions')\n",
    "\n",
    "\n",
    "plt.legend(loc='upper right')\n",
    "plt.savefig(\"train-predict-sgd-scaler.png\",dpi=200)\n",
    "plt.show()"
   ]
  },
  {
   "cell_type": "code",
   "execution_count": 33,
   "metadata": {},
   "outputs": [
    {
     "data": {
      "image/png": "[encoded data removed]",
      "text/plain": [
       "<Figure size 864x288 with 1 Axes>"
      ]
     },
     "metadata": {
      "needs_background": "light"
     },
     "output_type": "display_data"
    }
   ],
   "source": [
    "from matplotlib import pyplot as plt\n",
    "plt.rcParams['figure.figsize'] = (12.0, 4.0)\n",
    "\n",
    "plt.xlabel(\"date\")\n",
    "plt.ylabel(\"close\")\n",
    "\n",
    "plt.plot(valid_date, y_valid, label='real')\n",
    "plt.plot(valid_date, valid_predictions, label='predictions')\n",
    "\n",
    "\n",
    "plt.legend(loc='upper right')\n",
    "plt.savefig(\"valid-predict-sgd-scaler.png\",dpi=200)\n",
    "plt.show()"
   ]
  },
  {
   "cell_type": "code",
   "execution_count": 34,
   "metadata": {},
   "outputs": [
    {
     "name": "stdout",
     "output_type": "stream",
     "text": [
      "test_mse: 1004.1069401811499\n"
     ]
    }
   ],
   "source": [
    "test_predictions = model.predict(X_test)\n",
    "test_mse = metrics.mean_squared_error(y_test, test_predictions)\n",
    "print('test_mse: {}'.format(test_mse))"
   ]
  },
  {
   "cell_type": "code",
   "execution_count": 35,
   "metadata": {},
   "outputs": [
    {
     "data": {
      "image/png": "[encoded data removed]",
      "text/plain": [
       "<Figure size 864x288 with 1 Axes>"
      ]
     },
     "metadata": {
      "needs_background": "light"
     },
     "output_type": "display_data"
    }
   ],
   "source": [
    "from matplotlib import pyplot as plt\n",
    "plt.rcParams['figure.figsize'] = (12.0, 4.0)\n",
    "\n",
    "plt.xlabel(\"date\")\n",
    "plt.ylabel(\"close\")\n",
    "\n",
    "plt.plot(test_date, y_test, label='real')\n",
    "plt.plot(test_date, test_predictions, label='predictions')\n",
    "\n",
    "\n",
    "plt.legend(loc='upper right')\n",
    "plt.savefig(\"test-predict-sgd-scaler.png\",dpi=200)\n",
    "plt.show()"
   ]
  },
  {
   "cell_type": "code",
   "execution_count": null,
   "metadata": {},
   "outputs": [],
   "source": []
  },
  {
   "cell_type": "code",
   "execution_count": null,
   "metadata": {},
   "outputs": [],
   "source": []
  },
  {
   "cell_type": "code",
   "execution_count": null,
   "metadata": {},
   "outputs": [],
   "source": []
  }
 ],
 "metadata": {
  "kernelspec": {
   "display_name": "Python 3",
   "language": "python",
   "name": "python3"
  },
  "language_info": {
   "codemirror_mode": {
    "name": "ipython",
    "version": 3
   },
   "file_extension": ".py",
   "mimetype": "text/x-python",
   "name": "python",
   "nbconvert_exporter": "python",
   "pygments_lexer": "ipython3",
   "version": "3.8.3"
  }
 },
 "nbformat": 4,
 "nbformat_minor": 4
}
